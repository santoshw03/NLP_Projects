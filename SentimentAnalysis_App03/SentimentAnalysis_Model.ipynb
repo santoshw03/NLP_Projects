{
 "cells": [
  {
   "cell_type": "code",
   "execution_count": 1,
   "id": "a20d00b8-f6b9-4ab0-9da4-3bf1006416e8",
   "metadata": {},
   "outputs": [],
   "source": [
    "import numpy as np\n",
    "import seaborn as sns\n",
    "import matplotlib.pyplot as plt\n",
    "%matplotlib inline"
   ]
  },
  {
   "cell_type": "code",
   "execution_count": 2,
   "id": "e20e35af-5ab2-409e-90f0-147b37c9c272",
   "metadata": {},
   "outputs": [],
   "source": [
    "# Loading Dataset"
   ]
  },
  {
   "cell_type": "code",
   "execution_count": 3,
   "id": "fabbab91-e637-477f-9291-137364eb5bb1",
   "metadata": {},
   "outputs": [
    {
     "name": "stdout",
     "output_type": "stream",
     "text": [
      "(74681, 4)\n"
     ]
    },
    {
     "data": {
      "text/html": [
       "<div>\n",
       "<style scoped>\n",
       "    .dataframe tbody tr th:only-of-type {\n",
       "        vertical-align: middle;\n",
       "    }\n",
       "\n",
       "    .dataframe tbody tr th {\n",
       "        vertical-align: top;\n",
       "    }\n",
       "\n",
       "    .dataframe thead th {\n",
       "        text-align: right;\n",
       "    }\n",
       "</style>\n",
       "<table border=\"1\" class=\"dataframe\">\n",
       "  <thead>\n",
       "    <tr style=\"text-align: right;\">\n",
       "      <th></th>\n",
       "      <th>2401</th>\n",
       "      <th>Borderlands</th>\n",
       "      <th>Positive</th>\n",
       "      <th>im getting on borderlands and i will murder you all ,</th>\n",
       "    </tr>\n",
       "  </thead>\n",
       "  <tbody>\n",
       "    <tr>\n",
       "      <th>0</th>\n",
       "      <td>2401</td>\n",
       "      <td>Borderlands</td>\n",
       "      <td>Positive</td>\n",
       "      <td>I am coming to the borders and I will kill you...</td>\n",
       "    </tr>\n",
       "    <tr>\n",
       "      <th>1</th>\n",
       "      <td>2401</td>\n",
       "      <td>Borderlands</td>\n",
       "      <td>Positive</td>\n",
       "      <td>im getting on borderlands and i will kill you ...</td>\n",
       "    </tr>\n",
       "    <tr>\n",
       "      <th>2</th>\n",
       "      <td>2401</td>\n",
       "      <td>Borderlands</td>\n",
       "      <td>Positive</td>\n",
       "      <td>im coming on borderlands and i will murder you...</td>\n",
       "    </tr>\n",
       "    <tr>\n",
       "      <th>3</th>\n",
       "      <td>2401</td>\n",
       "      <td>Borderlands</td>\n",
       "      <td>Positive</td>\n",
       "      <td>im getting on borderlands 2 and i will murder ...</td>\n",
       "    </tr>\n",
       "    <tr>\n",
       "      <th>4</th>\n",
       "      <td>2401</td>\n",
       "      <td>Borderlands</td>\n",
       "      <td>Positive</td>\n",
       "      <td>im getting into borderlands and i can murder y...</td>\n",
       "    </tr>\n",
       "  </tbody>\n",
       "</table>\n",
       "</div>"
      ],
      "text/plain": [
       "   2401  Borderlands  Positive  \\\n",
       "0  2401  Borderlands  Positive   \n",
       "1  2401  Borderlands  Positive   \n",
       "2  2401  Borderlands  Positive   \n",
       "3  2401  Borderlands  Positive   \n",
       "4  2401  Borderlands  Positive   \n",
       "\n",
       "  im getting on borderlands and i will murder you all ,  \n",
       "0  I am coming to the borders and I will kill you...     \n",
       "1  im getting on borderlands and i will kill you ...     \n",
       "2  im coming on borderlands and i will murder you...     \n",
       "3  im getting on borderlands 2 and i will murder ...     \n",
       "4  im getting into borderlands and i can murder y...     "
      ]
     },
     "execution_count": 3,
     "metadata": {},
     "output_type": "execute_result"
    }
   ],
   "source": [
    "import pandas as pd\n",
    "\n",
    "df = pd.read_csv(\"twitter_training.csv\")\n",
    "print(df.shape)\n",
    "df.head(5)"
   ]
  },
  {
   "cell_type": "markdown",
   "id": "a3cc5917-daed-453e-b20a-7bb2709cd2cc",
   "metadata": {},
   "source": [
    "# Data Cleaning"
   ]
  },
  {
   "cell_type": "code",
   "execution_count": 4,
   "id": "6429cc03-b45b-4c28-ad13-601bd821087e",
   "metadata": {},
   "outputs": [],
   "source": [
    "df.drop(columns=[\"2401\",\"Borderlands\"] , inplace=True)"
   ]
  },
  {
   "cell_type": "code",
   "execution_count": 5,
   "id": "24efe621-f935-4430-bc52-d581574e41e5",
   "metadata": {},
   "outputs": [
    {
     "data": {
      "text/html": [
       "<div>\n",
       "<style scoped>\n",
       "    .dataframe tbody tr th:only-of-type {\n",
       "        vertical-align: middle;\n",
       "    }\n",
       "\n",
       "    .dataframe tbody tr th {\n",
       "        vertical-align: top;\n",
       "    }\n",
       "\n",
       "    .dataframe thead th {\n",
       "        text-align: right;\n",
       "    }\n",
       "</style>\n",
       "<table border=\"1\" class=\"dataframe\">\n",
       "  <thead>\n",
       "    <tr style=\"text-align: right;\">\n",
       "      <th></th>\n",
       "      <th>Positive</th>\n",
       "      <th>im getting on borderlands and i will murder you all ,</th>\n",
       "    </tr>\n",
       "  </thead>\n",
       "  <tbody>\n",
       "    <tr>\n",
       "      <th>0</th>\n",
       "      <td>Positive</td>\n",
       "      <td>I am coming to the borders and I will kill you...</td>\n",
       "    </tr>\n",
       "    <tr>\n",
       "      <th>1</th>\n",
       "      <td>Positive</td>\n",
       "      <td>im getting on borderlands and i will kill you ...</td>\n",
       "    </tr>\n",
       "    <tr>\n",
       "      <th>2</th>\n",
       "      <td>Positive</td>\n",
       "      <td>im coming on borderlands and i will murder you...</td>\n",
       "    </tr>\n",
       "    <tr>\n",
       "      <th>3</th>\n",
       "      <td>Positive</td>\n",
       "      <td>im getting on borderlands 2 and i will murder ...</td>\n",
       "    </tr>\n",
       "    <tr>\n",
       "      <th>4</th>\n",
       "      <td>Positive</td>\n",
       "      <td>im getting into borderlands and i can murder y...</td>\n",
       "    </tr>\n",
       "  </tbody>\n",
       "</table>\n",
       "</div>"
      ],
      "text/plain": [
       "   Positive im getting on borderlands and i will murder you all ,\n",
       "0  Positive  I am coming to the borders and I will kill you...   \n",
       "1  Positive  im getting on borderlands and i will kill you ...   \n",
       "2  Positive  im coming on borderlands and i will murder you...   \n",
       "3  Positive  im getting on borderlands 2 and i will murder ...   \n",
       "4  Positive  im getting into borderlands and i can murder y...   "
      ]
     },
     "execution_count": 5,
     "metadata": {},
     "output_type": "execute_result"
    }
   ],
   "source": [
    "df.head()"
   ]
  },
  {
   "cell_type": "code",
   "execution_count": 6,
   "id": "3e8d86dd-db7d-45be-90fd-bd540844b1d1",
   "metadata": {},
   "outputs": [],
   "source": [
    "df[\"Sentiment\"] = df[\"Positive\"]\n",
    "df[\"tweet\"] = df[\"im getting on borderlands and i will murder you all ,\"]"
   ]
  },
  {
   "cell_type": "code",
   "execution_count": 7,
   "id": "8a4bb0f6-0491-4d4e-9297-6b13743fbfea",
   "metadata": {},
   "outputs": [
    {
     "data": {
      "text/html": [
       "<div>\n",
       "<style scoped>\n",
       "    .dataframe tbody tr th:only-of-type {\n",
       "        vertical-align: middle;\n",
       "    }\n",
       "\n",
       "    .dataframe tbody tr th {\n",
       "        vertical-align: top;\n",
       "    }\n",
       "\n",
       "    .dataframe thead th {\n",
       "        text-align: right;\n",
       "    }\n",
       "</style>\n",
       "<table border=\"1\" class=\"dataframe\">\n",
       "  <thead>\n",
       "    <tr style=\"text-align: right;\">\n",
       "      <th></th>\n",
       "      <th>Positive</th>\n",
       "      <th>im getting on borderlands and i will murder you all ,</th>\n",
       "      <th>Sentiment</th>\n",
       "      <th>tweet</th>\n",
       "    </tr>\n",
       "  </thead>\n",
       "  <tbody>\n",
       "    <tr>\n",
       "      <th>0</th>\n",
       "      <td>Positive</td>\n",
       "      <td>I am coming to the borders and I will kill you...</td>\n",
       "      <td>Positive</td>\n",
       "      <td>I am coming to the borders and I will kill you...</td>\n",
       "    </tr>\n",
       "    <tr>\n",
       "      <th>1</th>\n",
       "      <td>Positive</td>\n",
       "      <td>im getting on borderlands and i will kill you ...</td>\n",
       "      <td>Positive</td>\n",
       "      <td>im getting on borderlands and i will kill you ...</td>\n",
       "    </tr>\n",
       "    <tr>\n",
       "      <th>2</th>\n",
       "      <td>Positive</td>\n",
       "      <td>im coming on borderlands and i will murder you...</td>\n",
       "      <td>Positive</td>\n",
       "      <td>im coming on borderlands and i will murder you...</td>\n",
       "    </tr>\n",
       "    <tr>\n",
       "      <th>3</th>\n",
       "      <td>Positive</td>\n",
       "      <td>im getting on borderlands 2 and i will murder ...</td>\n",
       "      <td>Positive</td>\n",
       "      <td>im getting on borderlands 2 and i will murder ...</td>\n",
       "    </tr>\n",
       "    <tr>\n",
       "      <th>4</th>\n",
       "      <td>Positive</td>\n",
       "      <td>im getting into borderlands and i can murder y...</td>\n",
       "      <td>Positive</td>\n",
       "      <td>im getting into borderlands and i can murder y...</td>\n",
       "    </tr>\n",
       "  </tbody>\n",
       "</table>\n",
       "</div>"
      ],
      "text/plain": [
       "   Positive im getting on borderlands and i will murder you all , Sentiment  \\\n",
       "0  Positive  I am coming to the borders and I will kill you...     Positive   \n",
       "1  Positive  im getting on borderlands and i will kill you ...     Positive   \n",
       "2  Positive  im coming on borderlands and i will murder you...     Positive   \n",
       "3  Positive  im getting on borderlands 2 and i will murder ...     Positive   \n",
       "4  Positive  im getting into borderlands and i can murder y...     Positive   \n",
       "\n",
       "                                               tweet  \n",
       "0  I am coming to the borders and I will kill you...  \n",
       "1  im getting on borderlands and i will kill you ...  \n",
       "2  im coming on borderlands and i will murder you...  \n",
       "3  im getting on borderlands 2 and i will murder ...  \n",
       "4  im getting into borderlands and i can murder y...  "
      ]
     },
     "execution_count": 7,
     "metadata": {},
     "output_type": "execute_result"
    }
   ],
   "source": [
    "df.head()"
   ]
  },
  {
   "cell_type": "code",
   "execution_count": 8,
   "id": "3ce06263-cb23-4274-8697-dfd086ded598",
   "metadata": {},
   "outputs": [],
   "source": [
    "df.drop(columns=[\"Positive\",\"im getting on borderlands and i will murder you all ,\"],inplace=True)"
   ]
  },
  {
   "cell_type": "code",
   "execution_count": 9,
   "id": "9873677b-5334-49be-8ba6-322b19b4b357",
   "metadata": {},
   "outputs": [
    {
     "data": {
      "text/html": [
       "<div>\n",
       "<style scoped>\n",
       "    .dataframe tbody tr th:only-of-type {\n",
       "        vertical-align: middle;\n",
       "    }\n",
       "\n",
       "    .dataframe tbody tr th {\n",
       "        vertical-align: top;\n",
       "    }\n",
       "\n",
       "    .dataframe thead th {\n",
       "        text-align: right;\n",
       "    }\n",
       "</style>\n",
       "<table border=\"1\" class=\"dataframe\">\n",
       "  <thead>\n",
       "    <tr style=\"text-align: right;\">\n",
       "      <th></th>\n",
       "      <th>Sentiment</th>\n",
       "      <th>tweet</th>\n",
       "    </tr>\n",
       "  </thead>\n",
       "  <tbody>\n",
       "    <tr>\n",
       "      <th>0</th>\n",
       "      <td>Positive</td>\n",
       "      <td>I am coming to the borders and I will kill you...</td>\n",
       "    </tr>\n",
       "    <tr>\n",
       "      <th>1</th>\n",
       "      <td>Positive</td>\n",
       "      <td>im getting on borderlands and i will kill you ...</td>\n",
       "    </tr>\n",
       "    <tr>\n",
       "      <th>2</th>\n",
       "      <td>Positive</td>\n",
       "      <td>im coming on borderlands and i will murder you...</td>\n",
       "    </tr>\n",
       "    <tr>\n",
       "      <th>3</th>\n",
       "      <td>Positive</td>\n",
       "      <td>im getting on borderlands 2 and i will murder ...</td>\n",
       "    </tr>\n",
       "    <tr>\n",
       "      <th>4</th>\n",
       "      <td>Positive</td>\n",
       "      <td>im getting into borderlands and i can murder y...</td>\n",
       "    </tr>\n",
       "  </tbody>\n",
       "</table>\n",
       "</div>"
      ],
      "text/plain": [
       "  Sentiment                                              tweet\n",
       "0  Positive  I am coming to the borders and I will kill you...\n",
       "1  Positive  im getting on borderlands and i will kill you ...\n",
       "2  Positive  im coming on borderlands and i will murder you...\n",
       "3  Positive  im getting on borderlands 2 and i will murder ...\n",
       "4  Positive  im getting into borderlands and i can murder y..."
      ]
     },
     "execution_count": 9,
     "metadata": {},
     "output_type": "execute_result"
    }
   ],
   "source": [
    "df.head()"
   ]
  },
  {
   "cell_type": "code",
   "execution_count": 10,
   "id": "b06f8f18-7ae8-45ee-8a25-7ffd0d7d973b",
   "metadata": {},
   "outputs": [
    {
     "data": {
      "text/plain": [
       "(74681, 2)"
      ]
     },
     "execution_count": 10,
     "metadata": {},
     "output_type": "execute_result"
    }
   ],
   "source": [
    "df.shape"
   ]
  },
  {
   "cell_type": "code",
   "execution_count": 11,
   "id": "f216fbe9-3ca3-4608-ae97-fcfde06194bc",
   "metadata": {},
   "outputs": [
    {
     "data": {
      "text/plain": [
       "Sentiment      0\n",
       "tweet        686\n",
       "dtype: int64"
      ]
     },
     "execution_count": 11,
     "metadata": {},
     "output_type": "execute_result"
    }
   ],
   "source": [
    "df.isnull().sum()"
   ]
  },
  {
   "cell_type": "code",
   "execution_count": 12,
   "id": "b15f51c8-5d0f-4d9d-b75c-77ad1c8ac2f1",
   "metadata": {},
   "outputs": [],
   "source": [
    "df.dropna(inplace=True)"
   ]
  },
  {
   "cell_type": "code",
   "execution_count": 13,
   "id": "142f3c28-5fd8-4693-99d9-330b74edd817",
   "metadata": {},
   "outputs": [
    {
     "data": {
      "text/plain": [
       "Sentiment    0\n",
       "tweet        0\n",
       "dtype: int64"
      ]
     },
     "execution_count": 13,
     "metadata": {},
     "output_type": "execute_result"
    }
   ],
   "source": [
    "df.isnull().sum()"
   ]
  },
  {
   "cell_type": "code",
   "execution_count": 14,
   "id": "122e7ab9-7406-4939-82f9-e6d471166355",
   "metadata": {},
   "outputs": [
    {
     "data": {
      "text/plain": [
       "Sentiment\n",
       "Negative      22358\n",
       "Positive      20654\n",
       "Neutral       18108\n",
       "Irrelevant    12875\n",
       "Name: count, dtype: int64"
      ]
     },
     "execution_count": 14,
     "metadata": {},
     "output_type": "execute_result"
    }
   ],
   "source": [
    "df[\"Sentiment\"].value_counts()"
   ]
  },
  {
   "cell_type": "code",
   "execution_count": 15,
   "id": "c387ddda-4088-4021-9123-824d9ec9dc7f",
   "metadata": {},
   "outputs": [],
   "source": [
    "# Removing rows to balance and also irrelevent sentiment is none of the use\n",
    "df = df[df[\"Sentiment\"]!='Irrelevant']"
   ]
  },
  {
   "cell_type": "code",
   "execution_count": 16,
   "id": "dbfe345d-ebed-4b58-84d4-74ad90bf6a74",
   "metadata": {},
   "outputs": [
    {
     "data": {
      "text/plain": [
       "Sentiment\n",
       "Negative    22358\n",
       "Positive    20654\n",
       "Neutral     18108\n",
       "Name: count, dtype: int64"
      ]
     },
     "execution_count": 16,
     "metadata": {},
     "output_type": "execute_result"
    }
   ],
   "source": [
    "df[\"Sentiment\"].value_counts()"
   ]
  },
  {
   "cell_type": "code",
   "execution_count": 17,
   "id": "0c013245-4f27-4030-846e-7eb822e770f2",
   "metadata": {},
   "outputs": [],
   "source": [
    "# visualization of data"
   ]
  },
  {
   "cell_type": "code",
   "execution_count": 18,
   "id": "40ac95db-f564-480d-854a-e414df416d97",
   "metadata": {},
   "outputs": [
    {
     "data": {
      "text/plain": [
       "Text(0.5, 1.0, 'label distribution')"
      ]
     },
     "execution_count": 18,
     "metadata": {},
     "output_type": "execute_result"
    },
    {
     "data": {
      "image/png": "[encoded data removed]",
      "text/plain": [
       "<Figure size 1000x600 with 1 Axes>"
      ]
     },
     "metadata": {},
     "output_type": "display_data"
    }
   ],
   "source": [
    "plt.figure(figsize = (10,6))\n",
    "colors = ['red','green','blue']\n",
    "df[\"Sentiment\"].value_counts().plot(kind='pie',autopct = '%.1f%%',shadow = True,colors = colors,startangle = 45,explode=(0.01,0.01,0.01))\n",
    "plt.title('label distribution')"
   ]
  },
  {
   "cell_type": "markdown",
   "id": "19e4a541-eabb-4426-9ae9-8b64dda34b01",
   "metadata": {},
   "source": [
    "# Encoding:"
   ]
  },
  {
   "cell_type": "code",
   "execution_count": 19,
   "id": "58855a80-6315-4f19-819e-45ab5b7dbbeb",
   "metadata": {},
   "outputs": [],
   "source": [
    "labels={\n",
    "    'Negative':0,\n",
    "    'Positive':1,\n",
    "    'Neutral':2\n",
    "}"
   ]
  },
  {
   "cell_type": "code",
   "execution_count": 20,
   "id": "3c9ce6e6-df91-46db-92f6-309ea31346fc",
   "metadata": {},
   "outputs": [],
   "source": [
    "df[\"label\"] = df[\"Sentiment\"].map(labels)"
   ]
  },
  {
   "cell_type": "code",
   "execution_count": 21,
   "id": "3879e921-3d70-4c53-afc7-a118e4ca6d67",
   "metadata": {},
   "outputs": [
    {
     "data": {
      "text/html": [
       "<div>\n",
       "<style scoped>\n",
       "    .dataframe tbody tr th:only-of-type {\n",
       "        vertical-align: middle;\n",
       "    }\n",
       "\n",
       "    .dataframe tbody tr th {\n",
       "        vertical-align: top;\n",
       "    }\n",
       "\n",
       "    .dataframe thead th {\n",
       "        text-align: right;\n",
       "    }\n",
       "</style>\n",
       "<table border=\"1\" class=\"dataframe\">\n",
       "  <thead>\n",
       "    <tr style=\"text-align: right;\">\n",
       "      <th></th>\n",
       "      <th>Sentiment</th>\n",
       "      <th>tweet</th>\n",
       "      <th>label</th>\n",
       "    </tr>\n",
       "  </thead>\n",
       "  <tbody>\n",
       "    <tr>\n",
       "      <th>17596</th>\n",
       "      <td>Neutral</td>\n",
       "      <td>GodFall sounds pretty interesting....</td>\n",
       "      <td>2</td>\n",
       "    </tr>\n",
       "    <tr>\n",
       "      <th>66699</th>\n",
       "      <td>Neutral</td>\n",
       "      <td>New League York charges Johnson &amp; Johnson with...</td>\n",
       "      <td>2</td>\n",
       "    </tr>\n",
       "    <tr>\n",
       "      <th>23005</th>\n",
       "      <td>Positive</td>\n",
       "      <td>Help me win this amazing CS: GO giveaway from ...</td>\n",
       "      <td>1</td>\n",
       "    </tr>\n",
       "    <tr>\n",
       "      <th>2015</th>\n",
       "      <td>Positive</td>\n",
       "      <td>More Borderlands 3 I LOVE THE GUNNER CLASS! tw...</td>\n",
       "      <td>1</td>\n",
       "    </tr>\n",
       "    <tr>\n",
       "      <th>24920</th>\n",
       "      <td>Neutral</td>\n",
       "      <td>\"Apostille Plus did a full and timely service ...</td>\n",
       "      <td>2</td>\n",
       "    </tr>\n",
       "    <tr>\n",
       "      <th>53481</th>\n",
       "      <td>Positive</td>\n",
       "      <td>A year and a half after buying it, I finally b...</td>\n",
       "      <td>1</td>\n",
       "    </tr>\n",
       "    <tr>\n",
       "      <th>45184</th>\n",
       "      <td>Positive</td>\n",
       "      <td>&lt;unk&gt;</td>\n",
       "      <td>1</td>\n",
       "    </tr>\n",
       "  </tbody>\n",
       "</table>\n",
       "</div>"
      ],
      "text/plain": [
       "      Sentiment                                              tweet  label\n",
       "17596   Neutral              GodFall sounds pretty interesting....      2\n",
       "66699   Neutral  New League York charges Johnson & Johnson with...      2\n",
       "23005  Positive  Help me win this amazing CS: GO giveaway from ...      1\n",
       "2015   Positive  More Borderlands 3 I LOVE THE GUNNER CLASS! tw...      1\n",
       "24920   Neutral  \"Apostille Plus did a full and timely service ...      2\n",
       "53481  Positive  A year and a half after buying it, I finally b...      1\n",
       "45184  Positive                                              <unk>      1"
      ]
     },
     "execution_count": 21,
     "metadata": {},
     "output_type": "execute_result"
    }
   ],
   "source": [
    "df.sample(7)"
   ]
  },
  {
   "cell_type": "markdown",
   "id": "b76042e2-8489-4ad8-9427-df5a62f77d74",
   "metadata": {},
   "source": [
    "# Cleaning Text"
   ]
  },
  {
   "cell_type": "code",
   "execution_count": 22,
   "id": "13dd08ae-3585-44b0-8e03-e4fb3db49609",
   "metadata": {},
   "outputs": [],
   "source": [
    "import re\n",
    "import nltk\n",
    "from nltk.stem.porter import PorterStemmer\n",
    "from nltk.corpus import stopwords"
   ]
  },
  {
   "cell_type": "code",
   "execution_count": 23,
   "id": "f3d8b159-3345-4357-9da5-5891da80cf83",
   "metadata": {},
   "outputs": [
    {
     "name": "stderr",
     "output_type": "stream",
     "text": [
      "<>:2: SyntaxWarning: invalid escape sequence '\\)'\n",
      "<>:13: SyntaxWarning: invalid escape sequence '\\W'\n",
      "<>:2: SyntaxWarning: invalid escape sequence '\\)'\n",
      "<>:13: SyntaxWarning: invalid escape sequence '\\W'\n",
      "C:\\Users\\santo\\AppData\\Local\\Temp\\ipykernel_5504\\2720176296.py:2: SyntaxWarning: invalid escape sequence '\\)'\n",
      "  emoji_pattern = re.compile('(?::|;|=)(?:-)?(?:\\)|\\(D|P)')\n",
      "C:\\Users\\santo\\AppData\\Local\\Temp\\ipykernel_5504\\2720176296.py:13: SyntaxWarning: invalid escape sequence '\\W'\n",
      "  text = re.sub('[\\W+]',' ',text.lower()) + ' '.join(emojis).replace('-', '')\n"
     ]
    }
   ],
   "source": [
    "stopwords_set = set(stopwords.words('english'))\n",
    "emoji_pattern = re.compile('(?::|;|=)(?:-)?(?:\\)|\\(D|P)')\n",
    "\n",
    "def preprocessing(text):\n",
    "    text = re.sub('<[^>]*>','',text)\n",
    "    text = re.sub('game','',text) #found this word in most common occurances and it is irrelevant(as it was most occuring in both positive and negative)\n",
    "    text = re.sub('pic','',text) #found this word in most common occurances and it is irrelevant (as it was most occuring in both positive and negative)\n",
    "    text = re.sub('like','',text) #found this word in most common occurances and it is irrelevant (as it was most occuring in both positive and negative)\n",
    "    text = re.sub('com','',text) #found this word in most common occurances and it is irrelevant (as it was most occuring in both positive and negative)\n",
    "    text = re.sub('play','',text) #found this word in most common occurances and it is irrelevant (as it was most occuring in both positive and negative)\n",
    "    text = re.sub('twitter','',text) #found this word in most common occurances and it is irrelevant (as it was most occuring in both positive and negative)\n",
    "    emojis = emoji_pattern.findall(text)\n",
    "    text = re.sub('[\\W+]',' ',text.lower()) + ' '.join(emojis).replace('-', '')\n",
    "\n",
    "    ps = PorterStemmer()\n",
    "    text = [ps.stem(word) for word in text.split() if word not in stopwords_set]\n",
    "\n",
    "    return \" \".join(text)"
   ]
  },
  {
   "cell_type": "code",
   "execution_count": 24,
   "id": "cb00e9c2-6ebf-48ec-a59f-3acde8dd9c8a",
   "metadata": {},
   "outputs": [],
   "source": [
    "df['clean_tweet'] = df['tweet'].apply(lambda x:preprocessing(x))"
   ]
  },
  {
   "cell_type": "code",
   "execution_count": 25,
   "id": "8810e66d-eb5f-4988-8fda-d0952c4ca76b",
   "metadata": {},
   "outputs": [
    {
     "data": {
      "text/html": [
       "<div>\n",
       "<style scoped>\n",
       "    .dataframe tbody tr th:only-of-type {\n",
       "        vertical-align: middle;\n",
       "    }\n",
       "\n",
       "    .dataframe tbody tr th {\n",
       "        vertical-align: top;\n",
       "    }\n",
       "\n",
       "    .dataframe thead th {\n",
       "        text-align: right;\n",
       "    }\n",
       "</style>\n",
       "<table border=\"1\" class=\"dataframe\">\n",
       "  <thead>\n",
       "    <tr style=\"text-align: right;\">\n",
       "      <th></th>\n",
       "      <th>Sentiment</th>\n",
       "      <th>tweet</th>\n",
       "      <th>label</th>\n",
       "      <th>clean_tweet</th>\n",
       "    </tr>\n",
       "  </thead>\n",
       "  <tbody>\n",
       "    <tr>\n",
       "      <th>74401</th>\n",
       "      <td>Positive</td>\n",
       "      <td>Steven Guilfoil covers Nvidia's business lines...</td>\n",
       "      <td>1</td>\n",
       "      <td>steven guilfoil cover nvidia busi line number ...</td>\n",
       "    </tr>\n",
       "    <tr>\n",
       "      <th>21642</th>\n",
       "      <td>Positive</td>\n",
       "      <td>THANK YOU!!!! GONNA BUY EVERY CS GO GUN WITH F...</td>\n",
       "      <td>1</td>\n",
       "      <td>thank gonna buy everi cs go gun fnatic sticker</td>\n",
       "    </tr>\n",
       "    <tr>\n",
       "      <th>35190</th>\n",
       "      <td>Negative</td>\n",
       "      <td>works remotely with VPN. Outlook loads..... cl...</td>\n",
       "      <td>0</td>\n",
       "      <td>work remot vpn outlook load click first e mail...</td>\n",
       "    </tr>\n",
       "    <tr>\n",
       "      <th>43437</th>\n",
       "      <td>Negative</td>\n",
       "      <td>I know pubg ain'and t Chinese but i wish they ...</td>\n",
       "      <td>0</td>\n",
       "      <td>know pubg chines wish ban soon app trash</td>\n",
       "    </tr>\n",
       "    <tr>\n",
       "      <th>42003</th>\n",
       "      <td>Negative</td>\n",
       "      <td>THE @PUBG PLEASE TO SORT OUT ON THE GAME ONE C...</td>\n",
       "      <td>0</td>\n",
       "      <td>pubg pleas sort game one crash</td>\n",
       "    </tr>\n",
       "  </tbody>\n",
       "</table>\n",
       "</div>"
      ],
      "text/plain": [
       "      Sentiment                                              tweet  label  \\\n",
       "74401  Positive  Steven Guilfoil covers Nvidia's business lines...      1   \n",
       "21642  Positive  THANK YOU!!!! GONNA BUY EVERY CS GO GUN WITH F...      1   \n",
       "35190  Negative  works remotely with VPN. Outlook loads..... cl...      0   \n",
       "43437  Negative  I know pubg ain'and t Chinese but i wish they ...      0   \n",
       "42003  Negative  THE @PUBG PLEASE TO SORT OUT ON THE GAME ONE C...      0   \n",
       "\n",
       "                                             clean_tweet  \n",
       "74401  steven guilfoil cover nvidia busi line number ...  \n",
       "21642     thank gonna buy everi cs go gun fnatic sticker  \n",
       "35190  work remot vpn outlook load click first e mail...  \n",
       "43437           know pubg chines wish ban soon app trash  \n",
       "42003                     pubg pleas sort game one crash  "
      ]
     },
     "execution_count": 25,
     "metadata": {},
     "output_type": "execute_result"
    }
   ],
   "source": [
    "df.sample(5)"
   ]
  },
  {
   "cell_type": "markdown",
   "id": "73ed194c-89eb-48f8-9b7b-d938cb4a2d20",
   "metadata": {},
   "source": [
    "# Required Dataset:"
   ]
  },
  {
   "cell_type": "code",
   "execution_count": 26,
   "id": "f49c9720-f606-44d8-8b33-48f147345e0b",
   "metadata": {},
   "outputs": [],
   "source": [
    "dataset = df.drop(columns=[\"Sentiment\",\"tweet\"])"
   ]
  },
  {
   "cell_type": "code",
   "execution_count": 27,
   "id": "48e105e0-75eb-4b7c-9376-168c4dbdf89c",
   "metadata": {},
   "outputs": [
    {
     "data": {
      "text/html": [
       "<div>\n",
       "<style scoped>\n",
       "    .dataframe tbody tr th:only-of-type {\n",
       "        vertical-align: middle;\n",
       "    }\n",
       "\n",
       "    .dataframe tbody tr th {\n",
       "        vertical-align: top;\n",
       "    }\n",
       "\n",
       "    .dataframe thead th {\n",
       "        text-align: right;\n",
       "    }\n",
       "</style>\n",
       "<table border=\"1\" class=\"dataframe\">\n",
       "  <thead>\n",
       "    <tr style=\"text-align: right;\">\n",
       "      <th></th>\n",
       "      <th>label</th>\n",
       "      <th>clean_tweet</th>\n",
       "    </tr>\n",
       "  </thead>\n",
       "  <tbody>\n",
       "    <tr>\n",
       "      <th>49296</th>\n",
       "      <td>0</td>\n",
       "      <td>fifa muniti worst p7kadpq53m</td>\n",
       "    </tr>\n",
       "    <tr>\n",
       "      <th>74040</th>\n",
       "      <td>1</td>\n",
       "      <td>nvidia en us geforc holi smoke nvidiageforc nv...</td>\n",
       "    </tr>\n",
       "    <tr>\n",
       "      <th>48877</th>\n",
       "      <td>1</td>\n",
       "      <td>depot sell protect goggl fit conveni window pr...</td>\n",
       "    </tr>\n",
       "    <tr>\n",
       "      <th>50497</th>\n",
       "      <td>0</td>\n",
       "      <td>fifa pain</td>\n",
       "    </tr>\n",
       "    <tr>\n",
       "      <th>6826</th>\n",
       "      <td>2</td>\n",
       "      <td>danc shadow absolut grip crime thriller featur...</td>\n",
       "    </tr>\n",
       "  </tbody>\n",
       "</table>\n",
       "</div>"
      ],
      "text/plain": [
       "       label                                        clean_tweet\n",
       "49296      0                       fifa muniti worst p7kadpq53m\n",
       "74040      1  nvidia en us geforc holi smoke nvidiageforc nv...\n",
       "48877      1  depot sell protect goggl fit conveni window pr...\n",
       "50497      0                                          fifa pain\n",
       "6826       2  danc shadow absolut grip crime thriller featur..."
      ]
     },
     "execution_count": 27,
     "metadata": {},
     "output_type": "execute_result"
    }
   ],
   "source": [
    "dataset.sample(5)"
   ]
  },
  {
   "cell_type": "code",
   "execution_count": 28,
   "id": "c09bb9e7-1714-46ba-a277-ec2098026d85",
   "metadata": {},
   "outputs": [],
   "source": [
    "# Adding Extra Words:"
   ]
  },
  {
   "cell_type": "code",
   "execution_count": 29,
   "id": "72b447b5-fd9f-4e73-9844-ea080f66c1fc",
   "metadata": {},
   "outputs": [],
   "source": [
    "positive_words = '''able abundant accepting accomplished accurate achiever active adaptable adept admirable admired adoptive adorable adventurous affection affectionate affluent agreeable alert aligned alive amazing ambitious amusement analytical appealing appreciate articulate artistic assertive astounding astute attentive attractive auspicious authentic awake aware awesome balanced beaming beautiful best blessed bliss blithesome bold bright brilliant brisk broad-minded buoyant calm candid capable careful caring cautious centered certain changeable charming cheerful childlike clear clear-thinking clever committed communicative compassionate competent competitive complete confident connected conscientious conscious consciousness considerate consistent constructive content controversial convenient cooperative courage courageous creative curious customary daring dazzling delicious delight delightful dependable desirable determined devoted diligent diplomatic direct discerning discover dynamic eager easy easy going efficient effortless elation elegant eloquent emotional empathetic empathy endless energetic engaging enhancer enormous enterprise enterprising enthusiastic enticing excellent excellent exceptional excitement exciting experienced exquisite fabulous fabulous facilitator fair fair-minded faithful fantastic farewell fascinating fast favorable fine fit flattering flexible flourishing focused forgiving fortuitous fortunate free friendliness friendly fulfilled fun funny generous gentle genuine gifted glad glorious glowing good listener natural good-looking gorgeous graceful gracious grand great great green growing handsome happiness happy hard worker hardworking hardy harmonious healed healthy helpful honest hope hopeful humorous ideal idealistic imaginative impressive incredible incredible independent individual individualistic industrious ineffable informal ingenious initiator innovative insightful inspired intelligent intense interest interested interesting intuitive inventive invincible inviting irresistible joy joyous judicious keen kind knowing knowledgeable leader learning leisurely light-hearted likable limitless literate lively logical lovable love loving loyal lucky luminous magical magnificent marvellous masterful mature mediator meditative merry methodical mighty mild miraculous mirthful moderate modest motivated natural neat nice noble nonjudgmental nurture objective open-minded optimistic organized original outgoing outstanding outstanding particular passionate patient peaceful perceptive perfect perfect persevering persistent personable persuasive playful pleasant pleasing pleasure plentiful polite politeness political positive powerful practical precious precise prepared pride proactive productive professional profound progressive prompt propitious prosperous proud punctual qualified quality quick quiet quirky quixotic racy radiant rational realistic reasonable rebellious refined reflective refreshing relaxed relaxing reliable relieved remarkable remarkable resolute resourceful respected respectful responsible result resultant rewarding robust safe satisfaction satisfied secure seductive self-disciplined self-determination sensational sense of humor sensible sensitive sensuous serene sharing sincere skilful skilled smart smashing smooth sociable self-consciousness solid sophisticated sparkling special spectacular spiritual splendid spontaneous sporty spunky stable stellar strong stunning stupendous successful super superb surprised swift tactful talented tenacious terrific thankful thorough thoughtful thrilling thriving timely tolerant traditional trust trusting trustworthy truthful ultimate unbelievable unconventional understanding uninhabited unique unselfish upbeat valiant valuable versatile vibrant victorious vigorous vivacious vivid warm wealthy well whole wise integrity witty wonderful wondrous worthy youthful zeal zest veritable affable amiable benevolent blithesome charitable charming debonair empathetic exquisite faithful gallant generous heroic honest illustrious industrious jaunty lionhearted merciful optimistic reliable scintillating seraphic trustworthy urbane amicable buoyant cherubic conscientious considerate cordial courteous glamorous gracious honorable humorous inspirational intelligent jocund magnanimous mettlesome pulchritudinous renowned resplendent sincere sophisticated stalwart steadfast vivacious wonderful very beautiful not bad really good well done high quality very happy nicely made great job well crafted perfect fit excellent service good value fast delivery very nice highly recommend superb product truly wonderful well designed pleasant surprise very satisfied quite pleased top notch highly efficient very reliable perfect condition truly impressed highly effective good experience very helpful nicely packaged very pleased well executed really impressed very neat top quality really nice highly durable good price very comfortable perfect size well worth very smooth good support very responsive really happy nicely designed very useful highly accurate perfect choice very sturdy great quality highly recommendable very reliable good result very well highly supportive very efficient quite impressive perfectly designed really pleased nicely done very practical good performance really helpful highly functional very grateful well put very effective good selection highly appealing very professional perfectly suitable very positive nicely executed good recommendation very accommodating really neat highly satisfying great product very caring nicely balanced very bright perfect timing good taste highly skilled very proficient well received very delighted highly enjoyable good condition really awesome very competent nicely integrated good packaging highly practical very affordable really fantastic very durable well presented very punctual good quality highly creative very dependable nicely arranged perfect match good feeling highly praised very supportive really valuable very fresh nicely planned highly regarded very thorough good outcome very impressive highly recommended perfectly executed very secure good material very reasonable nicely organized very inviting highly respected greatly appreciated very unique good impact really smart very clean highly inspiring nicely prepared perfectly clear good touch very thoughtful well maintained really quick very efficient highly attractive very neat good handling really professional very resourceful highly encouraging perfect service nicely kept very friendly good customer really effective very innovative highly effective very thorough good interaction nicely tailored perfect combination good value very seamless highly thoughtful very polished good coordination nicely chosen very appealing highly competent very prompt good connection really amazing very lively well communicated very flexible good attention highly skilled very systematic nicely displayed perfect balance good solution very committed really powerful highly focused very joyful good communication very supportive nicely aligned very attentive highly reliable good teamwork really beneficial very respectful perfect execution good efficiency very meaningful highly engaging very attentive good interaction nicely positioned very cheerful highly beneficial good assistance very informative really organized very polite highly engaging very knowledgeable good delivery nicely executed very accurate highly motivated very talented good approach very strategic nicely handled perfect outcome good impression very responsive highly thoughtful very considerate good teamwork really friendly very approachable nicely explained highly qualified very lively good atmosphere very pleasant nicely arranged very supportive good connection really enjoyable highly recommended very proficient good understanding nicely organized very bright highly pleasing very balanced good planning very committed nicely managed very vibrant highly resourceful good effort very diligent really efficient very cooperative nicely adapted highly productive very energetic good attention very successful nicely composed very engaging highly dependable good consideration very creative really interesting very cheerful nicely implemented highly interactive very efficient good organization very productive nicely integrated very inspiring highly reliable good enthusiasm very organized really valuable very focused nicely communicated highly supportive very clear good management very progressive nicely facilitated perfectly managed good collaboration very detailed really smooth very enthusiastic nicely achieved highly beneficial good coordination very adaptive nicely presented very practical highly adaptive very joyful good innovation very pleasant nicely constructed very friendly highly insightful good initiative very lively really effective very resourceful nicely planned highly cooperative very professional good interaction very meaningful nicely adjusted highly efficient very active good teamwork really impressive very creative nicely formulated highly valuable very positive good collaboration very proactive nicely arranged very insightful highly motivating very talented good communication very beneficial nicely executed very thoughtful highly appreciated good idea very enthusiastic really helpful very progressive nicely organized highly innovative very impressive good approach very efficient nicely managed very committed highly cooperative very active good connection very meaningful nicely positioned highly adaptable very joyful good initiative very pleasant nicely presented very friendly highly interactive good innovation very cheerful really effective very resourceful nicely constructed highly organized very professional good interaction very meaningful nicely adjusted highly skilled very talented good collaboration very active nicely coordinated very lively highly valuable very adaptive good communication very positive nicely formulated highly beneficial very enthusiastic good idea very efficient nicely facilitated highly insightful very motivating good approach very professional nicely integrated highly committed very progressive good teamwork very adaptive nicely implemented highly cooperative very beneficial good collaboration very productive nicely managed highly interactive very cheerful good connection very positive nicely positioned highly motivating very friendly good idea very resourceful nicely constructed highly adaptive very effective good communication very innovative nicely executed highly skilled very adaptive good interaction very insightful nicely arranged highly motivating very productive good teamwork very professional nicely facilitated highly innovative very efficient good approach very positive nicely managed highly adaptive very meaningful good connection very adaptive nicely positioned highly beneficial very cheerful good idea very innovative nicely constructed highly effective very resourceful good communication very efficient nicely executed highly insightful very active good interaction very productive nicely facilitated highly motivating very positive good collaboration very adaptive nicely managed highly interactive very meaningful good connection very efficient nicely positioned highly adaptive very friendly good innovation very productive nicely arranged highly beneficial very resourceful good communication very positive nicely executed highly effective very adaptive good interaction very cheerful nicely integrated highly innovative very efficient good approach very meaningful nicely facilitated highly insightful very active good teamwork very committed nicely managed highly motivating very positive good collaboration very adaptive nicely positioned highly interactive very cheerful good connection very adaptive nicely arranged highly effective very resourceful good innovation very innovative nicely executed highly skilled very productive good communication very positive nicely integrated highly adaptive very meaningful good interaction very adaptive'''"
   ]
  },
  {
   "cell_type": "code",
   "execution_count": 30,
   "id": "340cdeda-362d-46f3-9041-1c8c4f5dfdb6",
   "metadata": {},
   "outputs": [],
   "source": [
    "negative_words = '''abominable aggressive barbarous cantankerous choleric craven deceitful despicable detestable dishonorable egotistical gauche harsh hostile inhumane irascible malicious narcissistic obnoxious ornery pitiless ruthless saturnine treacherous vicious arrogant avaricious belligerent boorish churlish crotchety crude curmudgeonly dour duplicitous grim gross implacable miserly morose nasty notorious pompous quarrelsome savage selfish treacherous vainglorious vile vulgar bombastic callous capricious contemptible cross egocentric fickle glum ignoble immoral irate maleficent mendacious nefarious pedantic peevish persnickety petty puerile pugnacious pusillanimous stern supercilious unethical vapid abandoned abhor abominable abrasive absent absurd abusive accusatory ache aggravating aggressive agonizing alarmed alienated angry annoyed anxious apathetic appalling apprehensive arrogant ashamed awful bad baffled barren baseless beastly belligerent bewildered bitter bland bleak blemished blind blocked bored bothersome broken brutal callous capricious careless chaotic cheap childish clumsy coarse cold combative complacent compliant complicated condescending confused contemptuous contradictory corrupt cowardly crabby crafty cranky crass crazy creepy criminal critical crude cruel crying cumbersome cynical damaged dangerous dark deceitful deceptive defeated defective defenseless defiant deformed degraded dejected delinquent deluded demented demoralized demoted demanding demoralizing denied depleted depressed deprived deranged derogatory desolate despair despicable despondent destitute destroyed detached deteriorated detestable detrimental devastated devious difficult dilapidated dim diminished dire dirty disagreeable disappointed disastrous disbelieving discontented disconsolate discontinued discordant disgraced disgusted disheartened dishonest disillusioned dismal disobedient disorganized displeased disrespectful disruptive dissatisfied distressed disturbing divisive dizziness dolorous dominating doubtful drab drained dreary dreadful drunken dubious dull duplicitous dysfunctional eerie effete egocentric egotistical elusive embarrassed embittered empty enraged envious erratic escapist estranged evading evil exasperated excessive exhausted exorbitant expensive exploited exploitative expired explosive exposed exasperated exclusionary expensive expired exploited exploitative exposed failure fake fallen false fanatical fanciful farcical fatigue fearful feeble feigned feral feverish fierce filthy finicky fleeting flimsy foolish foreboding forlorn forgotten forsaken fragile frantic frightened frivolous frustrated fugitive futile gaudy gloomy glum greedy grievous grim gross guilty gullible haggard hard harsh hasty hateful heartless helpless hesitant hideous hoarse hollow horrendous horrible horrid hostile humiliated hurt hysterical ignorant ill ill-tempered illogical immaterial impaired impatient imperfect impersonal impetuous impolite impotent impossible impractical imprisoned impulsive inaccurate inactive inadequate inane inappropriate inarticulate incapable incessant incensed incompetent incomplete incongruent inconsistent incorrect indecent indecisive indifferent indignant indolent ineffective inefficient inept infantile inferior infuriating insane insecure insidious insignificant insipid insolent insulting intense interfering interrupted intolerant intoxicated invalid invasive invidious irascible irate irksome irrelevant irritable irritating irresponsible jealous jittery joyless jumpy lackadaisical lame lamentable languid lazy leery lethargic livid lonely loquacious lost loud loveless low loathsome malicious malignant manipulative mean meddlesome melancholic melodramatic menacing merciless messy miffed miserable misguided mistaken miserable misguided mistrustful misunderstood mocked moody morose mortal mournful nasty naughty neglected negative negligent nervous nonchalant noncommittal nonconforming nondescript nonsensical notorious numb obnoxious obscene obsessive obsolete obstinate odd offensive oppressive outdated overbearing overblown overcritical overemotional overloaded overlooked overwhelmed painful panicked paranoid pathetic patronizing peculiar peeved perilous pernicious perplexed persecuted perturbed pessimistic petty petulant phony pitiful plagued pointless poisonous pompous poor powerless precarious predatory prejudiced premature presumptuous pretentious problematic profane prohibitive provocative puny puzzled quarrelsome queasy querulous quiet quirky radical ragged rancorous rash rebellious reckless regretful rejected relentless reluctant remorseful renegade repellent reprehensible reproachful repugnant resentful restless revengeful revolting ridiculous ridiculed rigid ruined ruinous sad sadistic savage scared scathing scornful screwed-up selfish self-serving senseless serious severe shabby shady shameful shattered shocking short-sighted shy sickening skeptical sluggish smug snobbish sober sorrowful spiteful stagnant stained stale standoffish starved stifling stingy stressed stricken strict stubborn stunned stupid subdued submissive sullen sulky superficial suspicious tactless tedious tense terrified testy thankless thirsty threatened threatening tiresome tormented toxic tragic treacherous troubled troublesome unkind unnatural unnerved unreliable unsettled unsympathetic untrustworthy unwanted unwilling unworthy upset useless vain vacant vague vengeful venomous vindictive violent vulnerable vexed vicious victimized vindictive vicious wary weary wicked woeful worthless wrathful wretched worried wry yearning zealous don't like not better never again no support poor quality bad experience terrible service awful product horrible smell rude staff slow response broken item cheap material false claims wasted time wrong size late delivery confusing instructions missing parts expired product poorly made badly designed noisy environment dirty area incorrect charge poor performance unfriendly service misleading advertisement damaged goods unreliable service unacceptable behavior disappointed customer low quality poor condition faulty product fake item poor reception difficult process unhappy client not working noisy surroundings poor customer worst experience not satisfied hard to use out of order delayed response dissatisfied user problematic system unprofessional behavior annoying delay lacking features doesn't fit broken promise untrustworthy service defective item negative impact unpleasant smell painful experience high cost underperforming product lost item incorrect order unhelpful staff poorly executed outdated system not functional unclear instructions long wait poor communication cheap quality incorrect information no response high price wrong color low durability negative review unreliable connection poorly written broken link bad signal confusing interface incorrect size no warranty faulty connection complicated setup unpleasant taste no improvement missed deadline unorganized service negative feedback bad design faulty installation incorrect delivery incomplete order bad reputation poorly planned missing instructions unprofessional staff inconsistent quality not responsive damaged packaging complicated process no follow-up late shipment poor craftsmanship false information not worth unreliable product broken screen no assistance incorrect product slow loading unfriendly interface no refund hard to install incomplete features incorrect billing low battery poor maintenance false advertisement not helpful damaged screen missing pieces no updates unsatisfied customer incorrect item faulty software unreliable network poor signal negative results bad customer wrong item unpleasant experience slow service defective product incorrect charge bad quality wrong address poorly designed unreliable service complicated interface broken button incorrect size low resolution unhelpful information no instructions broken feature unfriendly design faulty system bad taste negative outcome not accurate unreliable performance poorly organized incorrect information slow connection bad experience defective part poor execution wrong details broken promise high fee unprofessional behavior no benefits incorrect sizing faulty equipment poorly built incorrect label not responsive wrong quantity broken case negative effect incorrect address poor lighting unreliable source no sound complicated menu broken switch incorrect name missing button no battery wrong item poor support slow boot damaged case no signal incorrect data poorly assembled unreliable service missing screw no power low quality unpleasant odor negative perception poor finish broken hinge incorrect format low volume no returns missing component unreliable connection slow repair broken cord incorrect weight not durable poorly configured missing feature no access wrong settings incorrect model slow startup missing part unreliable app broken cable no access low brightness wrong model poorly fitting incorrect reading unreliable results no response slow download broken plug incorrect temperature low speed no compatibility wrong version poorly performing incorrect measurements unreliable network poor signal negative results bad customer wrong item unpleasant experience slow service defective product incorrect charge bad quality wrong address poorly designed unreliable service complicated interface broken button incorrect size low resolution unhelpful information no instructions broken feature unfriendly design faulty system bad taste negative outcome not accurate unreliable performance poorly organized incorrect information slow connection bad experience defective part poor execution wrong details broken promise high fee unprofessional behavior no benefits incorrect sizing faulty equipment poorly built incorrect label not responsive wrong quantity broken case negative effect incorrect address poor lighting unreliable source no sound complicated menu broken switch incorrect name missing button no battery wrong item poor support slow boot damaged case no signal incorrect data poorly assembled unreliable service missing screw no power low quality unpleasant odor negative perception poor finish broken hinge incorrect format low volume no returns missing component unreliable connection slow repair broken cord incorrect weight not durable poorly configured missing feature no access wrong settings incorrect model slow startup missing part unreliable app broken cable no access low brightness wrong model poorly fitting incorrect reading unreliable results no response slow download broken plug incorrect temperature low speed no compatibility wrong version poorly performing incorrect measurements unreliable network poor signal negative results bad customer wrong item unpleasant experience slow service defective product incorrect charge bad quality wrong address poorly designed unreliable service complicated interface broken button incorrect size low resolution unhelpful information no instructions broken feature unfriendly design faulty system bad taste negative outcome not accurate unreliable performance poorly organized incorrect information slow connection bad experience defective part poor execution wrong details broken promise high fee unprofessional behavior no benefits incorrect sizing faulty equipment poorly built incorrect label not responsive wrong quantity broken case negative effect incorrect address poor lighting unreliable source no sound complicated menu broken switch incorrect name missing button no battery wrong item poor support slow boot damaged case no signal incorrect data poorly assembled unreliable service missing screw no power low quality unpleasant odor negative perception poor finish broken hinge incorrect format low volume no returns missing component unreliable connection slow repair broken cord incorrect weight not durable poorly configured missing feature no access wrong settings incorrect model slow startup missing part unreliable app broken cable no access low brightness wrong model poorly fitting incorrect reading unreliable results no response slow download broken plug incorrect temperature low speed no compatibility wrong version poorly performing incorrect measurements unreliable network poor signal negative results bad customer wrong item unpleasant experience slow service defective product incorrect charge bad quality wrong address poorly designed unreliable service complicated interface broken button incorrect size low resolution unhelpful information no instructions broken feature unfriendly design faulty system bad taste negative outcome not accurate unreliable performance poorly organized incorrect information slow connection bad experience defective part poor execution wrong details broken promise high fee unprofessional behavior no benefits incorrect sizing faulty equipment poorly built incorrect label not responsive wrong quantity broken case negative effect incorrect address poor lighting unreliable source no sound complicated menu broken switch incorrect name missing button no battery wrong item poor'''"
   ]
  },
  {
   "cell_type": "code",
   "execution_count": 31,
   "id": "a6ea4ba3-26a5-4409-894b-8bc6b3fbdb7b",
   "metadata": {},
   "outputs": [],
   "source": [
    "positivedata = dataset[dataset['label']==1]"
   ]
  },
  {
   "cell_type": "code",
   "execution_count": 32,
   "id": "003f0082-639d-497b-8184-75bd3fa49f4a",
   "metadata": {},
   "outputs": [
    {
     "data": {
      "text/html": [
       "<div>\n",
       "<style scoped>\n",
       "    .dataframe tbody tr th:only-of-type {\n",
       "        vertical-align: middle;\n",
       "    }\n",
       "\n",
       "    .dataframe tbody tr th {\n",
       "        vertical-align: top;\n",
       "    }\n",
       "\n",
       "    .dataframe thead th {\n",
       "        text-align: right;\n",
       "    }\n",
       "</style>\n",
       "<table border=\"1\" class=\"dataframe\">\n",
       "  <thead>\n",
       "    <tr style=\"text-align: right;\">\n",
       "      <th></th>\n",
       "      <th>label</th>\n",
       "      <th>clean_tweet</th>\n",
       "    </tr>\n",
       "  </thead>\n",
       "  <tbody>\n",
       "    <tr>\n",
       "      <th>0</th>\n",
       "      <td>1</td>\n",
       "      <td>ing border kill</td>\n",
       "    </tr>\n",
       "    <tr>\n",
       "      <th>1</th>\n",
       "      <td>1</td>\n",
       "      <td>im get borderland kill</td>\n",
       "    </tr>\n",
       "    <tr>\n",
       "      <th>2</th>\n",
       "      <td>1</td>\n",
       "      <td>im ing borderland murder</td>\n",
       "    </tr>\n",
       "    <tr>\n",
       "      <th>3</th>\n",
       "      <td>1</td>\n",
       "      <td>im get borderland 2 murder</td>\n",
       "    </tr>\n",
       "  </tbody>\n",
       "</table>\n",
       "</div>"
      ],
      "text/plain": [
       "   label                 clean_tweet\n",
       "0      1             ing border kill\n",
       "1      1      im get borderland kill\n",
       "2      1    im ing borderland murder\n",
       "3      1  im get borderland 2 murder"
      ]
     },
     "execution_count": 32,
     "metadata": {},
     "output_type": "execute_result"
    }
   ],
   "source": [
    "positivedata.head(4)"
   ]
  },
  {
   "cell_type": "code",
   "execution_count": 33,
   "id": "ea3553eb-1a8b-4d00-a325-7de658a5d0f3",
   "metadata": {},
   "outputs": [
    {
     "name": "stderr",
     "output_type": "stream",
     "text": [
      "C:\\Users\\santo\\AppData\\Local\\Temp\\ipykernel_5504\\2099142879.py:1: SettingWithCopyWarning: \n",
      "A value is trying to be set on a copy of a slice from a DataFrame.\n",
      "Try using .loc[row_indexer,col_indexer] = value instead\n",
      "\n",
      "See the caveats in the documentation: https://pandas.pydata.org/pandas-docs/stable/user_guide/indexing.html#returning-a-view-versus-a-copy\n",
      "  positivedata[\"clean_tweet\"] = positivedata[\"clean_tweet\"] + positive_words\n"
     ]
    }
   ],
   "source": [
    "positivedata[\"clean_tweet\"] = positivedata[\"clean_tweet\"] + positive_words"
   ]
  },
  {
   "cell_type": "code",
   "execution_count": 34,
   "id": "135761bb-eb33-41a1-a3b8-69b9fb8b67c7",
   "metadata": {},
   "outputs": [
    {
     "data": {
      "text/html": [
       "<div>\n",
       "<style scoped>\n",
       "    .dataframe tbody tr th:only-of-type {\n",
       "        vertical-align: middle;\n",
       "    }\n",
       "\n",
       "    .dataframe tbody tr th {\n",
       "        vertical-align: top;\n",
       "    }\n",
       "\n",
       "    .dataframe thead th {\n",
       "        text-align: right;\n",
       "    }\n",
       "</style>\n",
       "<table border=\"1\" class=\"dataframe\">\n",
       "  <thead>\n",
       "    <tr style=\"text-align: right;\">\n",
       "      <th></th>\n",
       "      <th>label</th>\n",
       "      <th>clean_tweet</th>\n",
       "    </tr>\n",
       "  </thead>\n",
       "  <tbody>\n",
       "    <tr>\n",
       "      <th>0</th>\n",
       "      <td>1</td>\n",
       "      <td>ing border killable abundant accepting accompl...</td>\n",
       "    </tr>\n",
       "    <tr>\n",
       "      <th>1</th>\n",
       "      <td>1</td>\n",
       "      <td>im get borderland killable abundant accepting ...</td>\n",
       "    </tr>\n",
       "    <tr>\n",
       "      <th>2</th>\n",
       "      <td>1</td>\n",
       "      <td>im ing borderland murderable abundant acceptin...</td>\n",
       "    </tr>\n",
       "    <tr>\n",
       "      <th>3</th>\n",
       "      <td>1</td>\n",
       "      <td>im get borderland 2 murderable abundant accept...</td>\n",
       "    </tr>\n",
       "  </tbody>\n",
       "</table>\n",
       "</div>"
      ],
      "text/plain": [
       "   label                                        clean_tweet\n",
       "0      1  ing border killable abundant accepting accompl...\n",
       "1      1  im get borderland killable abundant accepting ...\n",
       "2      1  im ing borderland murderable abundant acceptin...\n",
       "3      1  im get borderland 2 murderable abundant accept..."
      ]
     },
     "execution_count": 34,
     "metadata": {},
     "output_type": "execute_result"
    }
   ],
   "source": [
    "positivedata.head(4)"
   ]
  },
  {
   "cell_type": "code",
   "execution_count": 35,
   "id": "3a4e4dca-30fb-49a9-8282-82914beda8fc",
   "metadata": {},
   "outputs": [],
   "source": [
    "negativedata = dataset[dataset['label']==0]"
   ]
  },
  {
   "cell_type": "code",
   "execution_count": 36,
   "id": "10ae2954-65dd-4866-8f91-7926bc2db69d",
   "metadata": {},
   "outputs": [
    {
     "data": {
      "text/html": [
       "<div>\n",
       "<style scoped>\n",
       "    .dataframe tbody tr th:only-of-type {\n",
       "        vertical-align: middle;\n",
       "    }\n",
       "\n",
       "    .dataframe tbody tr th {\n",
       "        vertical-align: top;\n",
       "    }\n",
       "\n",
       "    .dataframe thead th {\n",
       "        text-align: right;\n",
       "    }\n",
       "</style>\n",
       "<table border=\"1\" class=\"dataframe\">\n",
       "  <thead>\n",
       "    <tr style=\"text-align: right;\">\n",
       "      <th></th>\n",
       "      <th>label</th>\n",
       "      <th>clean_tweet</th>\n",
       "    </tr>\n",
       "  </thead>\n",
       "  <tbody>\n",
       "    <tr>\n",
       "      <th>23</th>\n",
       "      <td>0</td>\n",
       "      <td>biggest dissappoin life came year ago fuck bor...</td>\n",
       "    </tr>\n",
       "    <tr>\n",
       "      <th>24</th>\n",
       "      <td>0</td>\n",
       "      <td>biggest disappoint life came year ago</td>\n",
       "    </tr>\n",
       "    <tr>\n",
       "      <th>25</th>\n",
       "      <td>0</td>\n",
       "      <td>biggest disappoint life came year ago</td>\n",
       "    </tr>\n",
       "    <tr>\n",
       "      <th>26</th>\n",
       "      <td>0</td>\n",
       "      <td>biggest dissappoin life ing year ago fuck bord...</td>\n",
       "    </tr>\n",
       "  </tbody>\n",
       "</table>\n",
       "</div>"
      ],
      "text/plain": [
       "    label                                        clean_tweet\n",
       "23      0  biggest dissappoin life came year ago fuck bor...\n",
       "24      0              biggest disappoint life came year ago\n",
       "25      0              biggest disappoint life came year ago\n",
       "26      0  biggest dissappoin life ing year ago fuck bord..."
      ]
     },
     "execution_count": 36,
     "metadata": {},
     "output_type": "execute_result"
    }
   ],
   "source": [
    "negativedata.head(4)"
   ]
  },
  {
   "cell_type": "code",
   "execution_count": 37,
   "id": "f656cb7a-a3a3-4d5f-8e08-508442ed1e42",
   "metadata": {},
   "outputs": [
    {
     "name": "stderr",
     "output_type": "stream",
     "text": [
      "C:\\Users\\santo\\AppData\\Local\\Temp\\ipykernel_5504\\1876009793.py:1: SettingWithCopyWarning: \n",
      "A value is trying to be set on a copy of a slice from a DataFrame.\n",
      "Try using .loc[row_indexer,col_indexer] = value instead\n",
      "\n",
      "See the caveats in the documentation: https://pandas.pydata.org/pandas-docs/stable/user_guide/indexing.html#returning-a-view-versus-a-copy\n",
      "  negativedata[\"clean_tweet\"] = negativedata[\"clean_tweet\"] + negative_words\n"
     ]
    }
   ],
   "source": [
    "negativedata[\"clean_tweet\"] = negativedata[\"clean_tweet\"] + negative_words"
   ]
  },
  {
   "cell_type": "code",
   "execution_count": 38,
   "id": "4ccc46b0-ff30-48e5-86aa-994a09c35df8",
   "metadata": {},
   "outputs": [
    {
     "data": {
      "text/html": [
       "<div>\n",
       "<style scoped>\n",
       "    .dataframe tbody tr th:only-of-type {\n",
       "        vertical-align: middle;\n",
       "    }\n",
       "\n",
       "    .dataframe tbody tr th {\n",
       "        vertical-align: top;\n",
       "    }\n",
       "\n",
       "    .dataframe thead th {\n",
       "        text-align: right;\n",
       "    }\n",
       "</style>\n",
       "<table border=\"1\" class=\"dataframe\">\n",
       "  <thead>\n",
       "    <tr style=\"text-align: right;\">\n",
       "      <th></th>\n",
       "      <th>label</th>\n",
       "      <th>clean_tweet</th>\n",
       "    </tr>\n",
       "  </thead>\n",
       "  <tbody>\n",
       "    <tr>\n",
       "      <th>23</th>\n",
       "      <td>0</td>\n",
       "      <td>biggest dissappoin life came year ago fuck bor...</td>\n",
       "    </tr>\n",
       "    <tr>\n",
       "      <th>24</th>\n",
       "      <td>0</td>\n",
       "      <td>biggest disappoint life came year agoabominabl...</td>\n",
       "    </tr>\n",
       "    <tr>\n",
       "      <th>25</th>\n",
       "      <td>0</td>\n",
       "      <td>biggest disappoint life came year agoabominabl...</td>\n",
       "    </tr>\n",
       "    <tr>\n",
       "      <th>26</th>\n",
       "      <td>0</td>\n",
       "      <td>biggest dissappoin life ing year ago fuck bord...</td>\n",
       "    </tr>\n",
       "  </tbody>\n",
       "</table>\n",
       "</div>"
      ],
      "text/plain": [
       "    label                                        clean_tweet\n",
       "23      0  biggest dissappoin life came year ago fuck bor...\n",
       "24      0  biggest disappoint life came year agoabominabl...\n",
       "25      0  biggest disappoint life came year agoabominabl...\n",
       "26      0  biggest dissappoin life ing year ago fuck bord..."
      ]
     },
     "execution_count": 38,
     "metadata": {},
     "output_type": "execute_result"
    }
   ],
   "source": [
    "negativedata.head(4)"
   ]
  },
  {
   "cell_type": "code",
   "execution_count": 39,
   "id": "5aca402c-2bbf-4bc5-981c-174a0b3fcc01",
   "metadata": {},
   "outputs": [],
   "source": [
    "# combined_data:\n",
    "positivenegativeclassified_df = pd.concat([positivedata,negativedata],ignore_index=True)"
   ]
  },
  {
   "cell_type": "markdown",
   "id": "dbb609ad-d91b-44be-ac7a-ff60ae806528",
   "metadata": {},
   "source": [
    "# Perfect Dataset"
   ]
  },
  {
   "cell_type": "code",
   "execution_count": 40,
   "id": "66cfc318-abc0-4dc6-b39f-c53d4d4745d4",
   "metadata": {},
   "outputs": [
    {
     "data": {
      "text/html": [
       "<div>\n",
       "<style scoped>\n",
       "    .dataframe tbody tr th:only-of-type {\n",
       "        vertical-align: middle;\n",
       "    }\n",
       "\n",
       "    .dataframe tbody tr th {\n",
       "        vertical-align: top;\n",
       "    }\n",
       "\n",
       "    .dataframe thead th {\n",
       "        text-align: right;\n",
       "    }\n",
       "</style>\n",
       "<table border=\"1\" class=\"dataframe\">\n",
       "  <thead>\n",
       "    <tr style=\"text-align: right;\">\n",
       "      <th></th>\n",
       "      <th>label</th>\n",
       "      <th>clean_tweet</th>\n",
       "    </tr>\n",
       "  </thead>\n",
       "  <tbody>\n",
       "    <tr>\n",
       "      <th>31180</th>\n",
       "      <td>0</td>\n",
       "      <td>battlefield 1 wonder purchasabominable aggress...</td>\n",
       "    </tr>\n",
       "    <tr>\n",
       "      <th>19258</th>\n",
       "      <td>1</td>\n",
       "      <td>shot fireable abundant accepting accomplished ...</td>\n",
       "    </tr>\n",
       "    <tr>\n",
       "      <th>42943</th>\n",
       "      <td>0</td>\n",
       "      <td>someon pleas tell nvmoduletrack save spawn im ...</td>\n",
       "    </tr>\n",
       "    <tr>\n",
       "      <th>6565</th>\n",
       "      <td>1</td>\n",
       "      <td>probabl icon earli era csgo still give shivera...</td>\n",
       "    </tr>\n",
       "    <tr>\n",
       "      <th>14247</th>\n",
       "      <td>1</td>\n",
       "      <td>usa today mobil market recap made great gain h...</td>\n",
       "    </tr>\n",
       "    <tr>\n",
       "      <th>29702</th>\n",
       "      <td>0</td>\n",
       "      <td>exactli pani post everyon right repost video h...</td>\n",
       "    </tr>\n",
       "    <tr>\n",
       "      <th>19904</th>\n",
       "      <td>1</td>\n",
       "      <td>special nvidia 16 nvda excelable abundant acce...</td>\n",
       "    </tr>\n",
       "    <tr>\n",
       "      <th>11213</th>\n",
       "      <td>1</td>\n",
       "      <td>great news ing microsoft todayable abundant ac...</td>\n",
       "    </tr>\n",
       "    <tr>\n",
       "      <th>37063</th>\n",
       "      <td>0</td>\n",
       "      <td>rhandlerr got remov lost connect cant join mat...</td>\n",
       "    </tr>\n",
       "    <tr>\n",
       "      <th>21523</th>\n",
       "      <td>0</td>\n",
       "      <td>worst way die amongabominable aggressive barba...</td>\n",
       "    </tr>\n",
       "  </tbody>\n",
       "</table>\n",
       "</div>"
      ],
      "text/plain": [
       "       label                                        clean_tweet\n",
       "31180      0  battlefield 1 wonder purchasabominable aggress...\n",
       "19258      1  shot fireable abundant accepting accomplished ...\n",
       "42943      0  someon pleas tell nvmoduletrack save spawn im ...\n",
       "6565       1  probabl icon earli era csgo still give shivera...\n",
       "14247      1  usa today mobil market recap made great gain h...\n",
       "29702      0  exactli pani post everyon right repost video h...\n",
       "19904      1  special nvidia 16 nvda excelable abundant acce...\n",
       "11213      1  great news ing microsoft todayable abundant ac...\n",
       "37063      0  rhandlerr got remov lost connect cant join mat...\n",
       "21523      0  worst way die amongabominable aggressive barba..."
      ]
     },
     "execution_count": 40,
     "metadata": {},
     "output_type": "execute_result"
    }
   ],
   "source": [
    "positivenegativeclassified_df.sample(10)"
   ]
  },
  {
   "cell_type": "code",
   "execution_count": 41,
   "id": "bba176d5-dc9f-441d-b0be-32fe6abfca0c",
   "metadata": {},
   "outputs": [
    {
     "data": {
      "text/plain": [
       "label          0\n",
       "clean_tweet    0\n",
       "dtype: int64"
      ]
     },
     "execution_count": 41,
     "metadata": {},
     "output_type": "execute_result"
    }
   ],
   "source": [
    "positivenegativeclassified_df.isnull().sum()"
   ]
  },
  {
   "cell_type": "code",
   "execution_count": 42,
   "id": "bde46e18-c6af-4964-8809-93a28d633b58",
   "metadata": {},
   "outputs": [
    {
     "data": {
      "text/plain": [
       "Text(0.5, 1.0, 'label distribution')"
      ]
     },
     "execution_count": 42,
     "metadata": {},
     "output_type": "execute_result"
    },
    {
     "data": {
      "image/png": "[encoded data removed]",
      "text/plain": [
       "<Figure size 1000x600 with 1 Axes>"
      ]
     },
     "metadata": {},
     "output_type": "display_data"
    }
   ],
   "source": [
    "plt.figure(figsize = (10,6))\n",
    "colors = ['red','green']\n",
    "positivenegativeclassified_df[\"label\"].value_counts().plot(kind='pie',autopct = '%.1f%%',shadow = True,colors = colors,startangle = 45,explode=(0,0.01))\n",
    "plt.title('label distribution')"
   ]
  },
  {
   "cell_type": "markdown",
   "id": "91b55587-7432-4386-9458-79ac762b9917",
   "metadata": {},
   "source": [
    "# Visualizing Positive, Negative and Neutral Words "
   ]
  },
  {
   "cell_type": "code",
   "execution_count": 43,
   "id": "7d7c900f-ae83-462c-9cb1-9c4ea8c96343",
   "metadata": {},
   "outputs": [],
   "source": [
    "positive = positivenegativeclassified_df[positivenegativeclassified_df['label']==1]\n",
    "positive = positive[\"clean_tweet\"]\n",
    "negative = positivenegativeclassified_df[positivenegativeclassified_df['label']==0]\n",
    "negative = negative[\"clean_tweet\"]"
   ]
  },
  {
   "cell_type": "code",
   "execution_count": 44,
   "id": "c2135a46-2fff-48a4-a5e8-f0525906a83c",
   "metadata": {},
   "outputs": [],
   "source": [
    "from collections import Counter"
   ]
  },
  {
   "cell_type": "code",
   "execution_count": 45,
   "id": "da269987-6ed3-4597-9ab0-35a3659546db",
   "metadata": {},
   "outputs": [],
   "source": [
    "# Positive Words:\n",
    "positive_words = ' '.join(positive).split()\n",
    "positive_words_count = Counter(positive_words)\n",
    "positive_common_words = positive_words_count.most_common(10)"
   ]
  },
  {
   "cell_type": "code",
   "execution_count": 46,
   "id": "d143353e-d09c-4e3f-b420-39574913cfbc",
   "metadata": {},
   "outputs": [],
   "source": [
    "# Negative Words:\n",
    "negative_words = ' '.join(negative).split()\n",
    "negative_words_count = Counter(negative_words)\n",
    "negative_common_words = negative_words_count.most_common(10)"
   ]
  },
  {
   "cell_type": "code",
   "execution_count": 47,
   "id": "df21fd97-30da-47fd-bd7d-deab42633526",
   "metadata": {},
   "outputs": [
    {
     "data": {
      "image/png": "[encoded data removed]",
      "text/plain": [
       "<Figure size 1200x600 with 2 Axes>"
      ]
     },
     "metadata": {},
     "output_type": "display_data"
    }
   ],
   "source": [
    "# Plotting\n",
    "fig, axes = plt.subplots(1, 2, figsize=(12, 6))\n",
    "\n",
    "# Positive data word frequency\n",
    "axes[0].barh(range(len(positive_common_words)), [count for _, count in positive_common_words], align='center')\n",
    "axes[0].set_yticks(range(len(positive_common_words)))\n",
    "axes[0].set_yticklabels([word for word, _ in positive_common_words])\n",
    "axes[0].set_title('Positive Data Word Frequency')\n",
    "\n",
    "# Negative data word frequency\n",
    "axes[1].barh(range(len(negative_common_words)), [count for _, count in negative_common_words], align='center')\n",
    "axes[1].set_yticks(range(len(negative_common_words)))\n",
    "axes[1].set_yticklabels([word for word, _ in negative_common_words])\n",
    "axes[1].set_title('Negative Data Word Frequency')\n",
    "\n",
    "plt.tight_layout()\n",
    "plt.show()\n"
   ]
  },
  {
   "cell_type": "code",
   "execution_count": 48,
   "id": "8e9f09bd-ba4e-4c36-b523-4322705260ec",
   "metadata": {},
   "outputs": [],
   "source": [
    "#  to get much better accuracy we can actually keep removing the most common which dont have any relation of being positive or negative \n",
    "#  we can keep removing untill we get the top 10 most occuring words are actually the positive and negetive words"
   ]
  },
  {
   "cell_type": "code",
   "execution_count": null,
   "id": "6de51283-61a7-41f7-a689-d9a45d3b58e0",
   "metadata": {},
   "outputs": [],
   "source": []
  },
  {
   "cell_type": "markdown",
   "id": "74a05ff9-0386-4c9e-8ea0-70c2bbe88c95",
   "metadata": {},
   "source": [
    "# Vectorization"
   ]
  },
  {
   "cell_type": "code",
   "execution_count": 59,
   "id": "597d4bc8-d735-4d0b-bffe-43f940295665",
   "metadata": {},
   "outputs": [],
   "source": [
    "from sklearn.feature_extraction.text import CountVectorizer\n",
    "cv = CountVectorizer(ngram_range=(1,2))\n",
    "y = positivenegativeclassified_df.label.values\n",
    "x = cv.fit_transform(positivenegativeclassified_df.clean_tweet)"
   ]
  },
  {
   "cell_type": "markdown",
   "id": "731075ad-1884-4151-a7e4-9549c23133e0",
   "metadata": {},
   "source": [
    "# Model Building"
   ]
  },
  {
   "cell_type": "code",
   "execution_count": 60,
   "id": "361c9488-f557-4b05-a5db-c9113c57bf82",
   "metadata": {},
   "outputs": [],
   "source": [
    "# train test split \n",
    "from sklearn.model_selection import train_test_split\n",
    "x_train,x_test,y_train,y_test = train_test_split(x,y,test_size=0.2,random_state=42)"
   ]
  },
  {
   "cell_type": "code",
   "execution_count": 79,
   "id": "8ca6b685-3124-4d8b-a165-2f1d7504e6a6",
   "metadata": {},
   "outputs": [],
   "source": [
    "from sklearn.linear_model import LogisticRegression\n",
    "model=LogisticRegression().fit(x_train,y_train)"
   ]
  },
  {
   "cell_type": "code",
   "execution_count": 62,
   "id": "d5656d66-9037-4627-b8c2-5a836dac2a25",
   "metadata": {},
   "outputs": [],
   "source": [
    "# evaluation"
   ]
  },
  {
   "cell_type": "code",
   "execution_count": 89,
   "id": "3b88845c-5e60-4d74-9229-9a96e4ac912d",
   "metadata": {},
   "outputs": [],
   "source": [
    "y_pred = model.predict(x_test)"
   ]
  },
  {
   "cell_type": "code",
   "execution_count": 90,
   "id": "a61a5eb9-817c-4141-be2b-e9a00c98c4da",
   "metadata": {},
   "outputs": [
    {
     "name": "stdout",
     "output_type": "stream",
     "text": [
      "              precision    recall  f1-score   support\n",
      "\n",
      "           0       1.00      1.00      1.00      4489\n",
      "           1       1.00      1.00      1.00      4114\n",
      "\n",
      "    accuracy                           1.00      8603\n",
      "   macro avg       1.00      1.00      1.00      8603\n",
      "weighted avg       1.00      1.00      1.00      8603\n",
      "\n"
     ]
    }
   ],
   "source": [
    "from sklearn.metrics import classification_report\n",
    "print(classification_report(y_test,y_pred))"
   ]
  },
  {
   "cell_type": "code",
   "execution_count": 91,
   "id": "1a85e771-c8f3-4683-9df4-b8050be026b3",
   "metadata": {},
   "outputs": [
    {
     "data": {
      "text/plain": [
       "array([0, 0, 0, 1, 0, 1, 0, 1, 1, 0, 0, 1, 1, 0, 1, 0, 0, 1, 0, 0],\n",
       "      dtype=int64)"
      ]
     },
     "execution_count": 91,
     "metadata": {},
     "output_type": "execute_result"
    }
   ],
   "source": [
    "y_test[:20]"
   ]
  },
  {
   "cell_type": "code",
   "execution_count": 92,
   "id": "3ddafc2c-011b-4c21-89b5-49e3f91ae1b0",
   "metadata": {},
   "outputs": [
    {
     "data": {
      "text/plain": [
       "array([0, 0, 0, 1, 0, 1, 0, 1, 1, 0, 0, 1, 1, 0, 1, 0, 0, 1, 0, 0],\n",
       "      dtype=int64)"
      ]
     },
     "execution_count": 92,
     "metadata": {},
     "output_type": "execute_result"
    }
   ],
   "source": [
    "y_pred[:20]"
   ]
  },
  {
   "cell_type": "markdown",
   "id": "ec8a3d0d-bd2c-4c35-a52e-12f02125a24a",
   "metadata": {},
   "source": [
    "# Prediction"
   ]
  },
  {
   "cell_type": "code",
   "execution_count": 93,
   "id": "6ed7586a-efa2-477d-acda-665f04049dec",
   "metadata": {},
   "outputs": [],
   "source": [
    "def prediction(comment):\n",
    "    processed_comment = preprocessing(comment)\n",
    "    comment_list = [processed_comment] # wrapping in list\n",
    "    comment_vector = cv.transform(comment_list)\n",
    "    prediction = model.predict(comment_vector)[0]\n",
    "    if prediction == 1:\n",
    "        print(\"Positive\")\n",
    "    else:\n",
    "        print(\"Negative\")\n",
    "\n",
    "    #return prediction"
   ]
  },
  {
   "cell_type": "code",
   "execution_count": 97,
   "id": "56f5b94c-fe15-451d-bd51-e61460179532",
   "metadata": {},
   "outputs": [
    {
     "name": "stdout",
     "output_type": "stream",
     "text": [
      "Positive\n"
     ]
    }
   ],
   "source": [
    "prediction(\"it was a wonderfull day :) \")"
   ]
  },
  {
   "cell_type": "code",
   "execution_count": 98,
   "id": "411fe117-9922-4182-947a-7ebaaf74a172",
   "metadata": {},
   "outputs": [
    {
     "name": "stdout",
     "output_type": "stream",
     "text": [
      "Negative\n"
     ]
    }
   ],
   "source": [
    "prediction(\"i had bad day :)\")"
   ]
  },
  {
   "cell_type": "code",
   "execution_count": 99,
   "id": "f24eaf50-9e2f-40dc-8dca-fe98b283f1dc",
   "metadata": {},
   "outputs": [
    {
     "name": "stdout",
     "output_type": "stream",
     "text": [
      "Negative\n"
     ]
    }
   ],
   "source": [
    "prediction(\"worst day of this month :(\")"
   ]
  },
  {
   "cell_type": "code",
   "execution_count": null,
   "id": "b067f434-1452-4350-ab1d-a4d783a405e4",
   "metadata": {},
   "outputs": [],
   "source": []
  },
  {
   "cell_type": "code",
   "execution_count": null,
   "id": "3ed10933-4974-4697-a9d0-befb0f943744",
   "metadata": {},
   "outputs": [],
   "source": []
  }
 ],
 "metadata": {
  "kernelspec": {
   "display_name": "Python 3 (ipykernel)",
   "language": "python",
   "name": "python3"
  },
  "language_info": {
   "codemirror_mode": {
    "name": "ipython",
    "version": 3
   },
   "file_extension": ".py",
   "mimetype": "text/x-python",
   "name": "python",
   "nbconvert_exporter": "python",
   "pygments_lexer": "ipython3",
   "version": "3.12.4"
  }
 },
 "nbformat": 4,
 "nbformat_minor": 5
}
